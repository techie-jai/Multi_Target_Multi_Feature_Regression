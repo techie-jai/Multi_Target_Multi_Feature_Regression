{
  "cells": [
    {
      "metadata": {
        "trusted": true
      },
      "cell_type": "code",
      "source": "from sklearn.linear_model import LinearRegression\n\nimport numpy as np\nimport pandas as pd\nfrom sklearn.model_selection import train_test_split\n\n\ntrain_df=pd.read_csv(\"train.csv\")\ntest_df=pd.read_csv(\"test.csv\")\n\nl=['Support Level(IE?)','Assignment group','Priority','Hour Resolved','Weightage','Highest Assignment group','Automation Pickup Time (Min)','Technician Pickup Time (Min)']\n\nfor index in range (1,8):\n\n    y=train_df[l[index]]\n    X=train_df.drop(l[index], axis=1)\n\n\n\n    X_train,X_test,y_train,y_test=train_test_split(X,y,test_size=0.2,random_state=0)\n\n\n\n    model=LinearRegression()\n\n    model.fit(X_train, y_train)\n\n\n\n    print model.score(X_test, y_test)\n\n    y_pred=model.predict(X_test)\n\n\n    df = pd.DataFrame({'Actual': y_test, 'Predicted': y_pred})\n\n    name=l[index]+'.csv'\n\n    df.to_csv(name)\n",
      "execution_count": 1,
      "outputs": [
        {
          "output_type": "stream",
          "text": "0.7676417420695734\n0.5055768400952267\n-1.3880903548998988\n0.9039584967514499\n0.8073846005642643\n0.07253369592946768\n0.37967489681469124\n",
          "name": "stdout"
        }
      ]
    },
    {
      "metadata": {},
      "cell_type": "markdown",
      "source": "## An algo to choose from various algo, which algo is giving the best result"
    },
    {
      "metadata": {
        "trusted": true
      },
      "cell_type": "code",
      "source": "from sklearn.linear_model import LogisticRegression\nfrom sklearn.tree import DecisionTreeClassifier\nfrom sklearn.neighbors import KNeighborsClassifier\nfrom sklearn.discriminant_analysis import LinearDiscriminantAnalysis\nfrom sklearn.naive_bayes import GaussianNB\nfrom sklearn.svm import SVC\nfrom sklearn.linear_model import LinearRegression\nfrom sklearn.model_selection import train_test_split\n\nimport numpy as np\nimport pandas as pd\n\n\n\n# paste your training and testing dataset name here\ntrain_df=pd.read_csv(\"train.csv\")\ntest_df=pd.read_csv(\"test.csv\")\n\n#paste inside l=[] names of all the column you want to be predicted and used for predictions, ie names of all the labels \n\nl=['Support Level(IE?)','Assignment group','Priority','Hour Resolved','Weightage','Highest Assignment group','Automation Pickup Time (Min)','Technician Pickup Time (Min)']\n\nfor index in range (1,8):\n\n    y=train_df[l[index]]\n    X=train_df.drop(l[index], axis=1)\n\n    print 'Now Predicting : '  + l[index]+'\\n'\n\n    X_train,X_test,y_train,y_test=train_test_split(X,y,test_size=0.2,random_state=0)\n    \n    algo_name=['LinearRegression()','LogisticRegression()','LinearDiscriminantAnalysis()','KNeighborsClassifier()','DecisionTreeClassifier()','GaussianNB()','SVC()']\n    \n    algo=[LinearRegression(),LogisticRegression(),LinearDiscriminantAnalysis(),KNeighborsClassifier(),DecisionTreeClassifier(),GaussianNB(),SVC()]\n\n    for item in range(0,7):\n\n        model=algo[item]\n\n        model.fit(X_train, y_train)\n\n        print  '\\n'+ algo_name[item]\n\n        print model.score(X_test, y_test)\n\n        y_pred=model.predict(X_test)\n        \n    \n    \n    print '_______________________________________________________________________________________________'\n    print '_______________________________________________________________________________________________'\n\n\n#    df = pd.DataFrame({'Actual': y_test, 'Predicted': y_pred})\n\n#    name=l[index]+'.csv'\n\n#    df.to_csv(name)\n\n",
      "execution_count": 9,
      "outputs": [
        {
          "output_type": "stream",
          "text": "Now Predicting : Assignment group\n\n\nLinearRegression()\n0.7676417420695734\n\nLogisticRegression()\n0.9358974358974359\n\nLinearDiscriminantAnalysis()\n0.9102564102564102\n\nKNeighborsClassifier()\n0.782051282051282\n\nDecisionTreeClassifier()\n0.9743589743589743\n\nGaussianNB()\n0.9487179487179487\n\nSVC()\n0.7692307692307693\n_______________________________________________________________________________________________\n_______________________________________________________________________________________________\nNow Predicting : Priority\n\n\nLinearRegression()\n0.5055768400952267\n\nLogisticRegression()\n0.7307692307692307\n\nLinearDiscriminantAnalysis()\n0.782051282051282\n\nKNeighborsClassifier()\n0.5128205128205128\n\nDecisionTreeClassifier()\n0.8974358974358975\n\nGaussianNB()\n0.5769230769230769\n\nSVC()\n0.5897435897435898\n_______________________________________________________________________________________________\n_______________________________________________________________________________________________\nNow Predicting : Hour Resolved\n\n\nLinearRegression()\n-1.3880903548998988\n\nLogisticRegression()\n0.38461538461538464\n\nLinearDiscriminantAnalysis()\n0.4358974358974359\n\nKNeighborsClassifier()\n0.3974358974358974\n\nDecisionTreeClassifier()\n0.5256410256410257\n\nGaussianNB()\n0.34615384615384615\n\nSVC()\n0.4358974358974359\n_______________________________________________________________________________________________\n_______________________________________________________________________________________________\nNow Predicting : Weightage\n\n\nLinearRegression()\n0.9039584967514499\n\nLogisticRegression()\n0.9230769230769231\n\nLinearDiscriminantAnalysis()\n0.9230769230769231\n\nKNeighborsClassifier()\n0.8974358974358975\n\nDecisionTreeClassifier()\n1.0\n\nGaussianNB()\n0.9487179487179487\n\nSVC()\n0.8846153846153846\n_______________________________________________________________________________________________\n_______________________________________________________________________________________________\nNow Predicting : Highest Assignment group\n\n\nLinearRegression()\n0.8073846005642643\n\nLogisticRegression()\n0.9743589743589743\n\nLinearDiscriminantAnalysis()\n0.9743589743589743\n\nKNeighborsClassifier()\n0.8846153846153846\n\nDecisionTreeClassifier()\n0.9615384615384616\n\nGaussianNB()\n0.9358974358974359\n\nSVC()\n0.8589743589743589\n_______________________________________________________________________________________________\n_______________________________________________________________________________________________\nNow Predicting : Automation Pickup Time (Min)\n\n\nLinearRegression()\n0.07253369592946768\n\nLogisticRegression()\n0.3717948717948718\n\nLinearDiscriminantAnalysis()\n0.34615384615384615\n\nKNeighborsClassifier()\n0.2948717948717949\n\nDecisionTreeClassifier()\n0.41025641025641024\n\nGaussianNB()\n0.4358974358974359\n\nSVC()\n0.2948717948717949\n_______________________________________________________________________________________________\n_______________________________________________________________________________________________\nNow Predicting : Technician Pickup Time (Min)\n\n\nLinearRegression()\n0.37967489681469124\n\nLogisticRegression()\n0.10256410256410256\n\nLinearDiscriminantAnalysis()\n0.1282051282051282\n\nKNeighborsClassifier()\n0.08974358974358974\n\nDecisionTreeClassifier()\n0.21794871794871795\n\nGaussianNB()\n0.10256410256410256\n\nSVC()\n0.08974358974358974\n_______________________________________________________________________________________________\n_______________________________________________________________________________________________\n",
          "name": "stdout"
        }
      ]
    },
    {
      "metadata": {
        "trusted": true
      },
      "cell_type": "code",
      "source": "",
      "execution_count": null,
      "outputs": []
    }
  ],
  "metadata": {
    "kernelspec": {
      "name": "python2",
      "display_name": "Python 2",
      "language": "python"
    },
    "language_info": {
      "mimetype": "text/x-python",
      "nbconvert_exporter": "python",
      "name": "python",
      "pygments_lexer": "ipython2",
      "version": "2.7.15",
      "file_extension": ".py",
      "codemirror_mode": {
        "version": 2,
        "name": "ipython"
      }
    }
  },
  "nbformat": 4,
  "nbformat_minor": 1
}
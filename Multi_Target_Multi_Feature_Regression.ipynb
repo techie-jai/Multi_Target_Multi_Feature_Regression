{
  "cells": [
    {
      "metadata": {
        "trusted": true
      },
      "cell_type": "code",
      "source": "from sklearn.linear_model import LinearRegression\n\nimport numpy as np\nimport pandas as pd\nfrom sklearn.model_selection import train_test_split\n\n\ntrain_df=pd.read_csv(\"train.csv\")\ntest_df=pd.read_csv(\"test.csv\")\n\nl=['Support Level(IE?)','Assignment group','Priority','Hour Resolved','Weightage','Highest Assignment group','Automation Pickup Time (Min)','Technician Pickup Time (Min)']\n\nfor index in range (1,8):\n\n    y=train_df[l[index]]\n    X=train_df.drop(l[index], axis=1)\n\n\n\n    X_train,X_test,y_train,y_test=train_test_split(X,y,test_size=0.2,random_state=0)\n\n\n\n    model=LinearRegression()\n\n    model.fit(X_train, y_train)\n\n\n\n    print model.score(X_test, y_test)\n\n    y_pred=model.predict(X_test)\n\n\n    df = pd.DataFrame({'Actual': y_test, 'Predicted': y_pred})\n\n    name=l[index]+'.csv'\n\n    df.to_csv(name)\n",
      "execution_count": 1,
      "outputs": [
        {
          "output_type": "stream",
          "text": "0.7676417420695734\n0.5055768400952267\n-1.3880903548998988\n0.9039584967514499\n0.8073846005642643\n0.07253369592946768\n0.37967489681469124\n",
          "name": "stdout"
        }
      ]
    },
    {
      "metadata": {
        "trusted": true
      },
      "cell_type": "code",
      "source": "",
      "execution_count": null,
      "outputs": []
    }
  ],
  "metadata": {
    "kernelspec": {
      "name": "python2",
      "display_name": "Python 2",
      "language": "python"
    },
    "language_info": {
      "mimetype": "text/x-python",
      "nbconvert_exporter": "python",
      "name": "python",
      "pygments_lexer": "ipython2",
      "version": "2.7.15",
      "file_extension": ".py",
      "codemirror_mode": {
        "version": 2,
        "name": "ipython"
      }
    }
  },
  "nbformat": 4,
  "nbformat_minor": 1
}